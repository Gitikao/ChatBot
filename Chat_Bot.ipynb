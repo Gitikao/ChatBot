{
 "cells": [
  {
   "cell_type": "code",
   "execution_count": 2,
   "id": "dc9d6f64",
   "metadata": {},
   "outputs": [],
   "source": [
    "import numpy as np\n",
    "import re\n",
    "import tensorflow as tf\n",
    "import time"
   ]
  },
  {
   "cell_type": "code",
   "execution_count": 3,
   "id": "1423dfe0",
   "metadata": {},
   "outputs": [],
   "source": [
    "lines = open('movie_lines.txt', encoding = 'utf-8', errors = 'ignore').read().split('\\n')\n",
    "conversations = open('movie_conversations.txt', encoding = 'utf-8', errors = 'ignore').read().split('\\n')"
   ]
  },
  {
   "cell_type": "code",
   "execution_count": 4,
   "id": "f9d8ac89",
   "metadata": {},
   "outputs": [],
   "source": [
    "id2line = {}\n",
    "for line in lines:\n",
    "    temp = line.split(' +++$+++ ')\n",
    "    if len(temp) == 5:\n",
    "        id2line[temp[0]] = temp[4]"
   ]
  },
  {
   "cell_type": "code",
   "execution_count": 5,
   "id": "c38e7c8f",
   "metadata": {},
   "outputs": [],
   "source": [
    "conversations_ids =[]\n",
    "for conversation in conversations[:-1]:\n",
    "    temp1 = conversation.split(' +++$+++ ')[-1][1:-1].replace(\"'\",\"\").replace(\" \",\"\")\n",
    "    conversations_ids.append(temp1.split(','))"
   ]
  },
  {
   "cell_type": "code",
   "execution_count": 6,
   "id": "0b4b3c42",
   "metadata": {},
   "outputs": [],
   "source": [
    "questions = []\n",
    "answers = []\n",
    "for conversation in conversations_ids:\n",
    "    for i in range(len(conversation) - 1):\n",
    "        questions.append(id2line[conversation[i]])\n",
    "        answers.append(id2line[conversation[i+1]])"
   ]
  },
  {
   "cell_type": "code",
   "execution_count": 7,
   "id": "60d281fc",
   "metadata": {},
   "outputs": [],
   "source": [
    "def clean_text(text):\n",
    "    text = text.lower()\n",
    "    text = re.sub(r\"i'm\",\"i am\", text)\n",
    "    text = re.sub(r\"he's\",\"he is\", text)\n",
    "    text = re.sub(r\"she's\",\"she is\", text)\n",
    "    text = re.sub(r\"that's\",\"that is\", text)\n",
    "    text = re.sub(r\"what's\",\"what is\", text)\n",
    "    text = re.sub(r\"where's\",\"where is\", text)\n",
    "    text = re.sub(r\"'ve\",\"have\", text)\n",
    "    text = re.sub(r\"'re\",\"are\", text)\n",
    "    text = re.sub(r\"won't\",\"would not\", text)\n",
    "    text = re.sub(r\"can't\",\"cannot\", text)\n",
    "    text = re.sub(r\"[-()\\\"#/@;:<>{}+=~|.?,]\",\"\",text)\n",
    "    return text"
   ]
  },
  {
   "cell_type": "code",
   "execution_count": 8,
   "id": "e8ca294f",
   "metadata": {},
   "outputs": [],
   "source": [
    "clean_questions = []\n",
    "for question in questions:\n",
    "    clean_questions.append(clean_text(question))"
   ]
  },
  {
   "cell_type": "code",
   "execution_count": 9,
   "id": "8bffbbee",
   "metadata": {},
   "outputs": [],
   "source": [
    "clean_answers = []\n",
    "for answer in answers:\n",
    "    clean_answers.append(clean_text(answer))"
   ]
  },
  {
   "cell_type": "code",
   "execution_count": 10,
   "id": "4ba82f43",
   "metadata": {},
   "outputs": [],
   "source": [
    "word2count = {}\n",
    "for question in clean_questions:\n",
    "    for word in question.split():\n",
    "        if word not in word2count:\n",
    "            word2count[word] = 1\n",
    "        else:\n",
    "            word2count[word] += 1 \n",
    "for answer in clean_answers:\n",
    "    for word in answer.split():\n",
    "        if word not in word2count:\n",
    "            word2count[word] = 1\n",
    "        else:\n",
    "            word2count[word] += 1"
   ]
  },
  {
   "cell_type": "code",
   "execution_count": 11,
   "id": "e7057dcc",
   "metadata": {},
   "outputs": [],
   "source": [
    "threshold = 20\n",
    "questionwords2int = {}\n",
    "word_number = 0\n",
    "for word,count in word2count.items():\n",
    "    if count >= threshold:\n",
    "        questionwords2int[word] = word_number\n",
    "        word_number += 1\n",
    "\n",
    "answerwords2int = {}\n",
    "word_number = 0\n",
    "for word,count in word2count.items():\n",
    "    if count >= threshold:\n",
    "        answerwords2int[word] = word_number\n",
    "        word_number += 1"
   ]
  },
  {
   "cell_type": "code",
   "execution_count": 12,
   "id": "9c966051",
   "metadata": {},
   "outputs": [],
   "source": [
    "tokens = ['<PAD>','<EOS>','<OUT>','<SOS>']\n",
    "for token in tokens:\n",
    "    questionwords2int[token] = len(questionwords2int) + 1\n",
    "for token in tokens:\n",
    "    answerwords2int[token] = len(answerwords2int) + 1\n",
    "    "
   ]
  },
  {
   "cell_type": "code",
   "execution_count": 13,
   "id": "2735377e",
   "metadata": {},
   "outputs": [],
   "source": [
    "answerint2word = {w_i: w for w,w_i in answerwords2int.items()}"
   ]
  },
  {
   "cell_type": "code",
   "execution_count": 14,
   "id": "5f202a26",
   "metadata": {},
   "outputs": [],
   "source": [
    "for i in range(len(clean_answers)):\n",
    "    clean_answers[i] += ' <EOS>'"
   ]
  },
  {
   "cell_type": "code",
   "execution_count": 15,
   "id": "2715ca35",
   "metadata": {},
   "outputs": [],
   "source": [
    "questions_to_int = []\n",
    "for question in clean_questions:\n",
    "    ints = []\n",
    "    for word in question.split():\n",
    "        if word not in questionwords2int:\n",
    "            ints.append(questionwords2int['<OUT>'])\n",
    "        else:\n",
    "            ints.append(questionwords2int[word])\n",
    "    questions_to_int.append(ints)\n",
    " \n",
    "#my name is red \n",
    "\n",
    "answers_to_int = []\n",
    "for answer in clean_answers:\n",
    "    ints = []\n",
    "    for word in answer.split():\n",
    "        if word not in answerwords2int:\n",
    "            ints.append(answerwords2int['<OUT>'])\n",
    "        else:\n",
    "            ints.append(answerwords2int[word])\n",
    "    answers_to_int.append(ints)\n",
    "                       "
   ]
  },
  {
   "cell_type": "code",
   "execution_count": 16,
   "id": "412e5a4c",
   "metadata": {},
   "outputs": [],
   "source": [
    "sorted_clean_questions = []\n",
    "sorted_clean_answers = []\n",
    "for length in range(1,26):\n",
    "    for i in enumerate(questions_to_int):\n",
    "        if len(i[1]) == length:\n",
    "            sorted_clean_questions.append(questions_to_int[i[0]])\n",
    "            sorted_clean_answers.append(answers_to_int[i[0]])\n",
    "        "
   ]
  },
  {
   "cell_type": "code",
   "execution_count": null,
   "id": "220cf8fd",
   "metadata": {},
   "outputs": [],
   "source": []
  }
 ],
 "metadata": {
  "kernelspec": {
   "display_name": "Python 3",
   "language": "python",
   "name": "python3"
  },
  "language_info": {
   "codemirror_mode": {
    "name": "ipython",
    "version": 3
   },
   "file_extension": ".py",
   "mimetype": "text/x-python",
   "name": "python",
   "nbconvert_exporter": "python",
   "pygments_lexer": "ipython3",
   "version": "3.8.8"
  }
 },
 "nbformat": 4,
 "nbformat_minor": 5
}
